{
 "cells": [
  {
   "cell_type": "markdown",
   "id": "a5d8dba7",
   "metadata": {},
   "source": [
    "# Property Price Prediction\n",
    "This notebook loads the trained model, preprocesses data, and makes predictions."
   ]
  },
  {
   "cell_type": "code",
   "execution_count": 1,
   "id": "d0392093",
   "metadata": {},
   "outputs": [
    {
     "name": "stdout",
     "output_type": "stream",
     "text": [
      "Feature Importance:\n",
      "           Feature   Coefficient\n",
      "0   median_income  75167.774766\n",
      "1        latitude -54415.696144\n",
      "2       longitude -53826.648016\n",
      "3      population -43403.432427\n",
      "4  total_bedrooms  43068.181842\n"
     ]
    },
    {
     "name": "stderr",
     "output_type": "stream",
     "text": [
      "D:\\anaconda3\\Lib\\site-packages\\sklearn\\base.py:376: InconsistentVersionWarning: Trying to unpickle estimator LinearRegression from version 1.1.3 when using version 1.4.2. This might lead to breaking code or invalid results. Use at your own risk. For more info please refer to:\n",
      "https://scikit-learn.org/stable/model_persistence.html#security-maintainability-limitations\n",
      "  warnings.warn(\n",
      "D:\\anaconda3\\Lib\\site-packages\\sklearn\\base.py:376: InconsistentVersionWarning: Trying to unpickle estimator StandardScaler from version 1.1.3 when using version 1.4.2. This might lead to breaking code or invalid results. Use at your own risk. For more info please refer to:\n",
      "https://scikit-learn.org/stable/model_persistence.html#security-maintainability-limitations\n",
      "  warnings.warn(\n"
     ]
    }
   ],
   "source": [
    "\n",
    "import joblib\n",
    "import pandas as pd\n",
    "import numpy as np\n",
    "\n",
    "# Load the trained model\n",
    "model = joblib.load(\"multiple_linear_regression_model.pkl\")\n",
    "\n",
    "# Load the scaler\n",
    "scaler = joblib.load(\"scaler.pkl\")\n",
    "\n",
    "# Load processed training and testing data\n",
    "X_train = joblib.load(\"X_train_scaled.pkl\")\n",
    "X_test = joblib.load(\"X_test_scaled.pkl\")\n",
    "\n",
    "# Load feature importance data\n",
    "feature_importance = pd.read_csv(\"feature_importance.csv\")\n",
    "print(\"Feature Importance:\\n\", feature_importance.head())\n"
   ]
  },
  {
   "cell_type": "code",
   "execution_count": 2,
   "id": "bd6ce795",
   "metadata": {},
   "outputs": [
    {
     "name": "stdout",
     "output_type": "stream",
     "text": [
      "Predicted House Price: -127240811.113042\n"
     ]
    },
    {
     "name": "stderr",
     "output_type": "stream",
     "text": [
      "D:\\anaconda3\\Lib\\site-packages\\sklearn\\base.py:493: UserWarning: X does not have valid feature names, but StandardScaler was fitted with feature names\n",
      "  warnings.warn(\n"
     ]
    }
   ],
   "source": [
    "\n",
    "# Example: Make Predictions Using the Loaded Model\n",
    "# Define new data (replace with actual feature values)\n",
    "new_data = np.array([[3.5, 5000, 1000, 3000, 500, 30, -119, 35, 1, 0, 0, 0]])  # Example values\n",
    "\n",
    "# Scale new data\n",
    "new_data_scaled = scaler.transform(new_data)\n",
    "\n",
    "# Predict house price\n",
    "predicted_price = model.predict(new_data_scaled)\n",
    "print(\"Predicted House Price:\", predicted_price[0])\n"
   ]
  },
  {
   "cell_type": "code",
   "execution_count": null,
   "id": "f4db0ad9-5fa9-4bdc-a8ce-e846f5b8291f",
   "metadata": {},
   "outputs": [],
   "source": []
  }
 ],
 "metadata": {
  "kernelspec": {
   "display_name": "Python 3 (ipykernel)",
   "language": "python",
   "name": "python3"
  },
  "language_info": {
   "codemirror_mode": {
    "name": "ipython",
    "version": 3
   },
   "file_extension": ".py",
   "mimetype": "text/x-python",
   "name": "python",
   "nbconvert_exporter": "python",
   "pygments_lexer": "ipython3",
   "version": "3.12.4"
  }
 },
 "nbformat": 4,
 "nbformat_minor": 5
}
